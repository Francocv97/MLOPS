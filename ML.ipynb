{
 "cells": [
  {
   "cell_type": "code",
   "execution_count": 1,
   "metadata": {},
   "outputs": [],
   "source": [
    "import numpy as np\n",
    "import pandas as pd\n",
    "from sklearn.metrics.pairwise import cosine_similarity\n",
    "from sklearn.feature_extraction.text import CountVectorizer"
   ]
  },
  {
   "cell_type": "code",
   "execution_count": 2,
   "metadata": {},
   "outputs": [],
   "source": [
    "# Cargamos los datos\n",
    "df = pd.read_csv('output_steam_games_final.csv')\n",
    "\n",
    "# Elimina las filas con valores NaN en la columna de juegos\n",
    "df = df.dropna(subset=['title'])\n",
    "\n",
    "# Creamos una matriz de características utilizando CountVectorizer\n",
    "count = CountVectorizer()\n",
    "count_matrix = count.fit_transform(df['title'])\n",
    "\n",
    "# Calculamos la similitud del coseno\n",
    "cosine_sim = cosine_similarity(count_matrix, count_matrix)\n",
    "\n",
    "# Creamos una serie para mapear los índices de los juegos a sus títulos\n",
    "indices = pd.Series(df.index, index=df['title']).drop_duplicates()\n",
    "\n",
    "def recomendacion_juego(titulo, cosine_sim=cosine_sim):\n",
    "    # Obtenemos el índice del juego que coincide con el título\n",
    "    idx = indices[titulo]\n",
    "\n",
    "    # Obtenemos las puntuaciones de similitud por pares de todos los juegos con ese juego\n",
    "    sim_scores = list(enumerate(cosine_sim[idx]))\n",
    "\n",
    "    # Ordenamos los juegos en función de las puntuaciones de similitud\n",
    "    sim_scores = sorted(sim_scores, key=lambda x: x[1], reverse=True)\n",
    "\n",
    "    # Obtenemos las puntuaciones de los 5 juegos más similares\n",
    "    sim_scores = sim_scores[1:6]\n",
    "\n",
    "    # Obtenemos los índices de los juegos\n",
    "    juego_indices = [i[0] for i in sim_scores]\n",
    "\n",
    "    # Devolvemos los 5 juegos más similares\n",
    "    return df['title'].iloc[juego_indices]\n"
   ]
  },
  {
   "cell_type": "code",
   "execution_count": 3,
   "metadata": {},
   "outputs": [
    {
     "name": "stdout",
     "output_type": "stream",
     "text": [
      "16057        Business-hooiznes\n",
      "18978         Geology Business\n",
      "1965       ComiPo! Casual Wear\n",
      "1966         ComiPo! Swim Wear\n",
      "5048     Suits: A Business RPG\n",
      "Name: title, dtype: object\n"
     ]
    }
   ],
   "source": [
    "# Supongamos que tienes un juego llamado 'Super Juego' en tu conjunto de datos\n",
    "juego = 'Robo Miner'\n",
    "\n",
    "# Usa la función para obtener recomendaciones\n",
    "recomendaciones = recomendacion_juego(juego)\n",
    "\n",
    "# Imprime las recomendaciones\n",
    "print(recomendaciones)\n"
   ]
  },
  {
   "cell_type": "markdown",
   "metadata": {},
   "source": [
    "2do modelo de recomendacion"
   ]
  },
  {
   "cell_type": "code",
   "execution_count": 18,
   "metadata": {},
   "outputs": [
    {
     "name": "stdout",
     "output_type": "stream",
     "text": [
      "Juegos recomendados para el usuario Joanfortes: Index(['Torchlight II', '10,000,000', '100% Orange Juice',\n",
      "       '12 Labours of Hercules II: The Cretan Bull', '140'],\n",
      "      dtype='object', name='title')\n"
     ]
    }
   ],
   "source": [
    "import pandas as pd\n",
    "from sklearn.metrics.pairwise import cosine_similarity\n",
    "import numpy as np\n",
    "\n",
    "# Carga los datos\n",
    "df = pd.read_csv('2dafuncion_final.csv')\n",
    "\n",
    "# Crea la matriz de utilidad usando 'playtime_forever' como valor\n",
    "utilidad = df.pivot_table(index='user_id', columns='title', values='playtime_forever')\n",
    "\n",
    "# Calcula la similitud del coseno\n",
    "similitud = cosine_similarity(utilidad.fillna(0))\n",
    "\n",
    "# Crea un mapeo de ID de usuario a índice de matriz\n",
    "user_id_to_index = {user_id: index for index, user_id in enumerate(utilidad.index)}\n",
    "\n",
    "# Sistema de recomendación usuario-ítem\n",
    "def recomendacion_usuario(user_id):\n",
    "    # Obtiene el índice de la matriz para el ID de usuario\n",
    "    user_index = user_id_to_index[user_id]\n",
    "    # Obtiene los índices de los 6 usuarios más similares\n",
    "    indices_similares = np.argsort(similitud[user_index])[-7:-1][::-1]\n",
    "    # Encuentra los juegos que les gustaron a los usuarios similares\n",
    "    juegos_recomendados = utilidad.iloc[indices_similares].mean().sort_values(ascending=False).index[:6]\n",
    "    # Excluye el primer juego (el más recomendado) y devuelve los siguientes 5\n",
    "    return juegos_recomendados[1:]\n",
    "\n",
    "# Asegúrate de que 'user_id' es un ID de usuario válido en tus datos\n",
    "user_id = 'Joanfortes'  # Reemplaza con un ID de usuario válido de tus datos\n",
    "\n",
    "if user_id in user_id_to_index:\n",
    "    # Llama a la función de recomendación de usuario\n",
    "    juegos_recomendados = recomendacion_usuario(user_id)\n",
    "\n",
    "    # Imprime los juegos recomendados\n",
    "    print(\"Juegos recomendados para el usuario {}: {}\".format(user_id, juegos_recomendados))\n",
    "else:\n",
    "    print(\"El ID de usuario {} no se encuentra en los datos.\".format(user_id))\n",
    "\n",
    "\n",
    "\n",
    "\n"
   ]
  },
  {
   "cell_type": "code",
   "execution_count": null,
   "metadata": {},
   "outputs": [],
   "source": []
  }
 ],
 "metadata": {
  "kernelspec": {
   "display_name": "Python 3",
   "language": "python",
   "name": "python3"
  },
  "language_info": {
   "codemirror_mode": {
    "name": "ipython",
    "version": 3
   },
   "file_extension": ".py",
   "mimetype": "text/x-python",
   "name": "python",
   "nbconvert_exporter": "python",
   "pygments_lexer": "ipython3",
   "version": "3.12.0"
  }
 },
 "nbformat": 4,
 "nbformat_minor": 2
}
